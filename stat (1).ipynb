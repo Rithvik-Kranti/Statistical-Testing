{
 "cells": [
  {
   "cell_type": "markdown",
   "metadata": {},
   "source": [
    "# Introduction\n",
    "\n",
    "Investigating a classic phenomenon from experimental psychology called the Stroop Effect . Details about it can be found on:\n",
    "\n",
    "\" https://en.wikipedia.org/wiki/Stroop_effect \"\n"
   ]
  },
  {
   "cell_type": "markdown",
   "metadata": {},
   "source": [
    "# Data Acquisition"
   ]
  },
  {
   "cell_type": "code",
   "execution_count": 215,
   "metadata": {},
   "outputs": [
    {
     "data": {
      "text/html": [
       "<div>\n",
       "<style>\n",
       "    .dataframe thead tr:only-child th {\n",
       "        text-align: right;\n",
       "    }\n",
       "\n",
       "    .dataframe thead th {\n",
       "        text-align: left;\n",
       "    }\n",
       "\n",
       "    .dataframe tbody tr th {\n",
       "        vertical-align: top;\n",
       "    }\n",
       "</style>\n",
       "<table border=\"1\" class=\"dataframe\">\n",
       "  <thead>\n",
       "    <tr style=\"text-align: right;\">\n",
       "      <th></th>\n",
       "      <th>Congruent</th>\n",
       "      <th>Incongruent</th>\n",
       "    </tr>\n",
       "  </thead>\n",
       "  <tbody>\n",
       "    <tr>\n",
       "      <th>0</th>\n",
       "      <td>12.079</td>\n",
       "      <td>19.278</td>\n",
       "    </tr>\n",
       "    <tr>\n",
       "      <th>1</th>\n",
       "      <td>16.791</td>\n",
       "      <td>18.741</td>\n",
       "    </tr>\n",
       "    <tr>\n",
       "      <th>2</th>\n",
       "      <td>9.564</td>\n",
       "      <td>21.214</td>\n",
       "    </tr>\n",
       "    <tr>\n",
       "      <th>3</th>\n",
       "      <td>8.630</td>\n",
       "      <td>15.687</td>\n",
       "    </tr>\n",
       "    <tr>\n",
       "      <th>4</th>\n",
       "      <td>14.669</td>\n",
       "      <td>22.803</td>\n",
       "    </tr>\n",
       "    <tr>\n",
       "      <th>5</th>\n",
       "      <td>12.238</td>\n",
       "      <td>20.878</td>\n",
       "    </tr>\n",
       "    <tr>\n",
       "      <th>6</th>\n",
       "      <td>14.692</td>\n",
       "      <td>24.572</td>\n",
       "    </tr>\n",
       "    <tr>\n",
       "      <th>7</th>\n",
       "      <td>8.987</td>\n",
       "      <td>17.394</td>\n",
       "    </tr>\n",
       "    <tr>\n",
       "      <th>8</th>\n",
       "      <td>9.401</td>\n",
       "      <td>20.762</td>\n",
       "    </tr>\n",
       "    <tr>\n",
       "      <th>9</th>\n",
       "      <td>14.480</td>\n",
       "      <td>26.282</td>\n",
       "    </tr>\n",
       "    <tr>\n",
       "      <th>10</th>\n",
       "      <td>22.328</td>\n",
       "      <td>24.524</td>\n",
       "    </tr>\n",
       "    <tr>\n",
       "      <th>11</th>\n",
       "      <td>15.298</td>\n",
       "      <td>18.644</td>\n",
       "    </tr>\n",
       "    <tr>\n",
       "      <th>12</th>\n",
       "      <td>15.073</td>\n",
       "      <td>17.510</td>\n",
       "    </tr>\n",
       "    <tr>\n",
       "      <th>13</th>\n",
       "      <td>16.929</td>\n",
       "      <td>20.330</td>\n",
       "    </tr>\n",
       "    <tr>\n",
       "      <th>14</th>\n",
       "      <td>18.200</td>\n",
       "      <td>35.255</td>\n",
       "    </tr>\n",
       "    <tr>\n",
       "      <th>15</th>\n",
       "      <td>12.130</td>\n",
       "      <td>22.158</td>\n",
       "    </tr>\n",
       "    <tr>\n",
       "      <th>16</th>\n",
       "      <td>18.495</td>\n",
       "      <td>25.139</td>\n",
       "    </tr>\n",
       "    <tr>\n",
       "      <th>17</th>\n",
       "      <td>10.639</td>\n",
       "      <td>20.429</td>\n",
       "    </tr>\n",
       "    <tr>\n",
       "      <th>18</th>\n",
       "      <td>11.344</td>\n",
       "      <td>17.425</td>\n",
       "    </tr>\n",
       "    <tr>\n",
       "      <th>19</th>\n",
       "      <td>12.369</td>\n",
       "      <td>34.288</td>\n",
       "    </tr>\n",
       "    <tr>\n",
       "      <th>20</th>\n",
       "      <td>12.944</td>\n",
       "      <td>23.894</td>\n",
       "    </tr>\n",
       "    <tr>\n",
       "      <th>21</th>\n",
       "      <td>14.233</td>\n",
       "      <td>17.960</td>\n",
       "    </tr>\n",
       "    <tr>\n",
       "      <th>22</th>\n",
       "      <td>19.710</td>\n",
       "      <td>22.058</td>\n",
       "    </tr>\n",
       "    <tr>\n",
       "      <th>23</th>\n",
       "      <td>16.004</td>\n",
       "      <td>21.157</td>\n",
       "    </tr>\n",
       "  </tbody>\n",
       "</table>\n",
       "</div>"
      ],
      "text/plain": [
       "    Congruent  Incongruent\n",
       "0      12.079       19.278\n",
       "1      16.791       18.741\n",
       "2       9.564       21.214\n",
       "3       8.630       15.687\n",
       "4      14.669       22.803\n",
       "5      12.238       20.878\n",
       "6      14.692       24.572\n",
       "7       8.987       17.394\n",
       "8       9.401       20.762\n",
       "9      14.480       26.282\n",
       "10     22.328       24.524\n",
       "11     15.298       18.644\n",
       "12     15.073       17.510\n",
       "13     16.929       20.330\n",
       "14     18.200       35.255\n",
       "15     12.130       22.158\n",
       "16     18.495       25.139\n",
       "17     10.639       20.429\n",
       "18     11.344       17.425\n",
       "19     12.369       34.288\n",
       "20     12.944       23.894\n",
       "21     14.233       17.960\n",
       "22     19.710       22.058\n",
       "23     16.004       21.157"
      ]
     },
     "execution_count": 215,
     "metadata": {},
     "output_type": "execute_result"
    }
   ],
   "source": [
    "#loading the file\n",
    "import pandas as pd\n",
    "filename=pd.read_csv(\"C:\\\\Users\\\\Jon Targaryen\\\\Desktop\\\\Udacity\\\\NanoDegree\\\\Data Analyst\\\\stroop exp\\\\stroopdata.csv\")\n",
    "filename\n"
   ]
  },
  {
   "cell_type": "markdown",
   "metadata": {},
   "source": [
    "Reading the dataset from the file \"stroopdata.csv\" using the pandas built in function \".read_csv\""
   ]
  },
  {
   "cell_type": "code",
   "execution_count": 221,
   "metadata": {},
   "outputs": [
    {
     "name": "stdout",
     "output_type": "stream",
     "text": [
      "<class 'pandas.core.frame.DataFrame'>\n",
      "RangeIndex: 24 entries, 0 to 23\n",
      "Data columns (total 2 columns):\n",
      "Congruent      24 non-null float64\n",
      "Incongruent    24 non-null float64\n",
      "dtypes: float64(2)\n",
      "memory usage: 464.0 bytes\n"
     ]
    }
   ],
   "source": [
    "#getting basic information of the file\n",
    "filename.info()"
   ]
  },
  {
   "cell_type": "markdown",
   "metadata": {},
   "source": [
    "The length is \"24 \" i.e 24 rows of 2 columns( Congruent & Incongruent) "
   ]
  },
  {
   "cell_type": "markdown",
   "metadata": {},
   "source": [
    "# 1. What is the independent variable? What is the dependent variable?\n"
   ]
  },
  {
   "cell_type": "markdown",
   "metadata": {},
   "source": [
    "The independent variable would be the \"predictor\" variable or the \"condition\" variable or the \"treatment\" and something to be taken on X-axis.\n",
    "\n",
    "Here it is: \" Congruent\" , \"Incongruent\".\n",
    "\n",
    "The dependent variable is the \"outcome\" or the \"measure\". This would be taken on Y-axis.\n",
    "\n",
    "Here it is : time to name the ink colors."
   ]
  },
  {
   "cell_type": "markdown",
   "metadata": {},
   "source": [
    "# 2. What is an appropriate set of hypotheses for this task? What kind of statistical test do you expect to perform? Justify the choices."
   ]
  },
  {
   "cell_type": "markdown",
   "metadata": {},
   "source": [
    "To find the relationship between the response times for the two conditions (congruent and incongruent), the following would be an appropriate set of hypotheses:\n",
    "\n",
    "$\\mu(C) $ --- mean response time for the Congruent condition.\n",
    "\n",
    "$\\mu(I) $ --- mean response time for the Incongruent condition\n",
    "\n",
    "\n",
    "**Ho: Null Hypothesis **: The mean response time for the two conditions, congruent and incongruent, are the same (or effectively the same).\n",
    "\n",
    "\n",
    "$\\mu(C)= \\mu(I)$\n",
    "\n",
    "**Ha: Alternate Hypothesis **: The mean response \n",
    "time for the two conditions, congruent and incongruent, has a statistical difference.\n",
    "\n",
    "$\\mu(C) > \\mu(I)$ or\n",
    "\n",
    "$\\mu(C) < \\mu(I)$ or in general\n",
    "\n",
    "$\\mu(C)$  != $\\mu(I)$\n",
    "\n",
    "\n",
    "\n",
    "The observations one can draw from the data are :\n",
    "\n",
    "1) The population parameters (population mean and population standard deviation) are not known.\n",
    "\n",
    "2) The same subjects are assigned two different conditions.The samples are dependent. i.e it is a \"paired\" experiment. Because the same subjects took the tests under different conditions, they are dependent samples.\n",
    "\n",
    "3) If the sample size is less than 30, sample data no longer approximates a normal distribution, which makes the use of a Z value inappropriate for such case. In such cases, a t-distribution must be used.[1]\n",
    "\n",
    "\n",
    "\n",
    "Based on these observations, the test which would be appropriate is a 2-sample dependent t-test.\n",
    "\n",
    "\n",
    "\n",
    "With this test, we seek to determine whether there is enough evidence in the provided sample of data to infer that the congruent words mean response time and the incongruent words mean response time is same or whethere there exists any statistical difference.\n"
   ]
  },
  {
   "cell_type": "markdown",
   "metadata": {},
   "source": [
    "*Now it’s your chance to try out the Stroop task for yourself. Go to [this link](https://faculty.washington.edu/chudler/java/ready.html) , which has a Java-based applet for performing the Stroop task. Record the times that you received on the task (you do not need to submit your times to the site.) Now, download [this dataset](https://drive.google.com/file/d/0B9Yf01UaIbUgQXpYb2NhZ29yX1U/view) which contains results from a number of participants in the task. Each row of the dataset contains the performance for one participant, with the first number their results on the congruent task and the second number their performance on the incongruent task.*"
   ]
  },
  {
   "cell_type": "markdown",
   "metadata": {},
   "source": [
    "# 3. Report some descriptive statistics regarding this dataset. Include at least one measure of central tendency and at least one measure of variability."
   ]
  },
  {
   "cell_type": "code",
   "execution_count": 222,
   "metadata": {},
   "outputs": [
    {
     "name": "stdout",
     "output_type": "stream",
     "text": [
      "The number of sample subjects for each condition:\n",
      "Congruent      24\n",
      "Incongruent    24\n",
      "dtype: int64\n",
      "\n",
      "\n",
      "The median result for each condition:\n",
      "Congruent      14.3565\n",
      "Incongruent    21.0175\n",
      "dtype: float64\n",
      "\n",
      "\n",
      "The mean of the results for each condition:\n",
      "Congruent      14.051125\n",
      "Incongruent    22.015917\n",
      "dtype: float64\n",
      "\n",
      "\n",
      "The standard deviation of the results for each condition:\n",
      "Congruent      3.559358\n",
      "Incongruent    4.797057\n",
      "dtype: float64\n"
     ]
    }
   ],
   "source": [
    "#finding the median,mean, standard deviations of both the conditions:\n",
    "print (\"The number of sample subjects for each condition:\")\n",
    "print (filename.count())\n",
    "print (\"\\n\")\n",
    "print (\"The median result for each condition:\")\n",
    "print (filename.median())\n",
    "print (\"\\n\")\n",
    "print (\"The mean of the results for each condition:\")\n",
    "print (filename.mean())\n",
    "print (\"\\n\")\n",
    "print (\"The standard deviation of the results for each condition:\")\n",
    "print (filename.std())"
   ]
  },
  {
   "cell_type": "markdown",
   "metadata": {},
   "source": [
    "Standard deviation is more for Incongruent condition when compared to the Congruent condition. This means either the Incongruent condition is wide spread or that it has outliers."
   ]
  },
  {
   "cell_type": "markdown",
   "metadata": {},
   "source": [
    "# 4. Provide one or two visualizations that show the distribution of the sample data. Write one or two sentences noting what you observe about the plot or plots."
   ]
  },
  {
   "cell_type": "code",
   "execution_count": 223,
   "metadata": {},
   "outputs": [
    {
     "data": {
      "image/png": "[encoded data removed]",
      "text/plain": [
       "<matplotlib.figure.Figure at 0x26a432f6e80>"
      ]
     },
     "metadata": {},
     "output_type": "display_data"
    }
   ],
   "source": [
    "#loading libraries for plotting.\n",
    "import seaborn as sns\n",
    "import matplotlib.pyplot as plt\n",
    "\n",
    "con_mean    = filename['Congruent'].mean()\n",
    "incon_mean  = filename['Incongruent'].mean()\n",
    "\n",
    "#plotting the mean value with vertical lines.\n",
    "sns.plt.axvline(x=con_mean, linewidth=2, color='red')\n",
    "sns.plt.axvline(x=incon_mean, linewidth=2, color='blue')\n",
    "\n",
    "#plotting the distribution plot with both the independent variables.\n",
    "distplot=sns.distplot(filename['Congruent'],color='red')              \n",
    "distplot=sns.distplot(filename['Incongruent'],color='blue')      \n",
    "\n",
    "#giving labels\n",
    "distplot.set_xlabel(\"Response time in seconds\",fontsize=15,color=\"red\")\n",
    "distplot.set_ylabel(\"Probabilty\",fontsize=15,color=\"red\")\n",
    "distplot.set_title(\"Response Time Distribution\",fontsize=20,color=\"purple\")\n",
    "sns.plt.show()\n",
    "                 \n"
   ]
  },
  {
   "cell_type": "markdown",
   "metadata": {},
   "source": [
    "The range of the Incongruent data is more to the right when compared with that of the Congruent data. i.e Congruent tasks were completed faster than Incongrunet tasks.\n",
    "\n",
    "Also, the Incongruent data has some peaks near the \"35 seconds\" mark as seen in the figure indicating that some outliers are present.\n",
    "\n"
   ]
  },
  {
   "cell_type": "markdown",
   "metadata": {},
   "source": [
    "\n",
    "# 5. Now, perform the statistical test and report your results. What is your confidence level and your critical statistic value? Do you reject the null hypothesis or fail to reject it? Come to a conclusion in terms of the experiment task. Did the results match up with your expectations?"
   ]
  },
  {
   "cell_type": "code",
   "execution_count": 219,
   "metadata": {},
   "outputs": [
    {
     "name": "stdout",
     "output_type": "stream",
     "text": [
      "Ttest_relResult(statistic=-8.020706944109957, pvalue=4.1030005857111781e-08)\n",
      "t-statistic: -8.02070694411\n",
      "p-value: 4.10300058571e-08\n"
     ]
    }
   ],
   "source": [
    "x1=filename['Congruent']\n",
    "x2=filename['Incongruent']\n",
    "\n",
    "#calculating the t-statistic and p-value.\n",
    "from scipy import stats\n",
    "values=stats.ttest_rel(x1,x2)\n",
    "print (values)\n",
    "print (\"t-statistic: \" +str(values[0]))\n",
    "print (\"p-value: \" +str(values[1]))\n"
   ]
  },
  {
   "cell_type": "code",
   "execution_count": 224,
   "metadata": {},
   "outputs": [
    {
     "name": "stdout",
     "output_type": "stream",
     "text": [
      "(-10.019027909364912, -5.9105554239684226)\n"
     ]
    }
   ],
   "source": [
    "#calculating the confidence interval\n",
    "z=x1-x2\n",
    "print (stats.t.interval(0.95,loc=z.mean(),scale=stats.sem(z),df=23))"
   ]
  },
  {
   "cell_type": "markdown",
   "metadata": {
    "collapsed": true
   },
   "source": [
    "For a confidence interval of 95%, two-tailed test (alternate hypothesis being difference in means, which can mean either less than or greater than with respect to one another of the independant variables) , $\\alpha (level)= 0.05 $  i.e 0.025 in each tail of the distribution:\n",
    "\n",
    "degrees of freedom = (number of samples  -  1 )= 24 - 1 = 23\n",
    "\n",
    "From [the table](https://s3.amazonaws.com/udacity-hosted-downloads/t-table.jpg) : for 23 and 0.025 ,\n",
    "we get :\n",
    "\n",
    "t-critical value= $\\pm$ 2.069\n",
    "\n",
    "\n",
    "\n",
    "\n"
   ]
  },
  {
   "cell_type": "markdown",
   "metadata": {},
   "source": [
    "The t-statistic ( - 8.0207 )   is greater than t- critical value ( -2.069 )\n",
    "i.e it lies in the critical region .\n",
    "\n",
    "Therefore , we reject the null hypothesis and accept the alternative hypothesis.\n",
    "\n",
    "This means the population means for Congruent and Incongruent scores are not same i.e they have a 'statistical difference'.\n",
    "\n",
    "There is sufficient evidence at the α = .05 level of significance to support the claim that there exists a statistical difference in recognizing the congruent and incongruent conditions.\n"
   ]
  },
  {
   "cell_type": "markdown",
   "metadata": {},
   "source": [
    "People do not name colours at the same speed when the word’s meaning and its colour match, as when they do not match. The result confirms this expectations.\n"
   ]
  },
  {
   "cell_type": "markdown",
   "metadata": {},
   "source": [
    "# 6. What do you think is responsible for the effects observed? Can you think of an alternative or similar task that would result in a similar effect?"
   ]
  },
  {
   "cell_type": "markdown",
   "metadata": {
    "collapsed": true
   },
   "source": [
    "I think the human brain is  more entitled to \"read\" than \"see\" i.e irrespective of color, the human brain would be fast in reading the \"text\", kind of going with the impulse.\n",
    "\n",
    "It wouldn't be that easy for the brain to tell the color of the word when the word is in different color with respect to its text.\n",
    "When there is a mismatch, of text and the color it is depicted with, the brain might take additional time to process the information.\n",
    "\n",
    "Interactive \"Number Stroop\" Effect Experiment is a similar experiment.\n",
    "In this experiment one is required to count the number of words the word appears where the words would be the word of the number.\n",
    "\n",
    "\n",
    "\n"
   ]
  },
  {
   "cell_type": "markdown",
   "metadata": {},
   "source": [
    "# References\n",
    "\n",
    "1.http://ci.columbia.edu/ci/premba_test/c0331/s7/s7_4.html\n",
    "\n",
    "2.https://docs.scipy.org/doc/scipy/reference/generated/scipy.stats.ttest_rel.html\n",
    "\n",
    "3.https://stackoverflow.com/questions/15033511/compute-a-confidence-interval-from-sample-data\n",
    "\n",
    "4.https://faculty.washington.edu/chudler/java/readyn.html\n"
   ]
  },
  {
   "cell_type": "code",
   "execution_count": null,
   "metadata": {
    "collapsed": true
   },
   "outputs": [],
   "source": []
  },
  {
   "cell_type": "code",
   "execution_count": null,
   "metadata": {
    "collapsed": true
   },
   "outputs": [],
   "source": []
  }
 ],
 "metadata": {
  "kernelspec": {
   "display_name": "Python 3",
   "language": "python",
   "name": "python3"
  },
  "language_info": {
   "codemirror_mode": {
    "name": "ipython",
    "version": 3
   },
   "file_extension": ".py",
   "mimetype": "text/x-python",
   "name": "python",
   "nbconvert_exporter": "python",
   "pygments_lexer": "ipython3",
   "version": "3.6.1"
  }
 },
 "nbformat": 4,
 "nbformat_minor": 2
}
